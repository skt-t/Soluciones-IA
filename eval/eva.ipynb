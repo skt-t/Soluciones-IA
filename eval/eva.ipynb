{
 "cells": [
  {
   "cell_type": "code",
   "execution_count": 1,
   "id": "5d70a72e",
   "metadata": {},
   "outputs": [
    {
     "name": "stdout",
     "output_type": "stream",
     "text": [
      "✅ LLM de LangChain configurado.\n"
     ]
    }
   ],
   "source": [
    "import os\n",
    "from langchain_openai import ChatOpenAI\n",
    "from dotenv import load_dotenv\n",
    "\n",
    "# Carga tu archivo .env\n",
    "load_dotenv()\n",
    "\n",
    "# --- Forzamos las variables de entorno ---\n",
    "# 1. Clave de OpenAI\n",
    "os.environ[\"OPENAI_API_KEY\"] = os.environ.get(\"OPENAI_API_KEY\")\n",
    "# 2. URL de OpenAI (Evita el error 'UnsupportedProtocol')\n",
    "os.environ[\"OPENAI_API_BASE_URL\"] = \"https://api.openai.com/v1\"\n",
    "\n",
    "# Configuración del LLM\n",
    "try:\n",
    "    llm = ChatOpenAI(\n",
    "        model=\"gpt-4o\",\n",
    "        openai_api_base=os.environ.get(\"OPENAI_API_BASE_URL\"),\n",
    "        openai_api_key=os.environ.get(\"OPENAI_API_KEY\"),\n",
    "        temperature=0\n",
    "    )\n",
    "    print(\"✅ LLM de LangChain configurado.\")\n",
    "except Exception as e:\n",
    "    print(f\"❌ Error configurando el LLM: {e}\")\n",
    "    llm = None"
   ]
  },
  {
   "cell_type": "code",
   "execution_count": 2,
   "id": "ec4d1d7e",
   "metadata": {},
   "outputs": [
    {
     "ename": "ModuleNotFoundError",
     "evalue": "No module named 'langchain_community'",
     "output_type": "error",
     "traceback": [
      "\u001b[31m---------------------------------------------------------------------------\u001b[39m",
      "\u001b[31mModuleNotFoundError\u001b[39m                       Traceback (most recent call last)",
      "\u001b[36mCell\u001b[39m\u001b[36m \u001b[39m\u001b[32mIn[2]\u001b[39m\u001b[32m, line 6\u001b[39m\n\u001b[32m      2\u001b[39m \u001b[38;5;28;01mfrom\u001b[39;00m\u001b[38;5;250m \u001b[39m\u001b[34;01mcrewai\u001b[39;00m\u001b[34;01m.\u001b[39;00m\u001b[34;01mtools\u001b[39;00m\u001b[38;5;250m \u001b[39m\u001b[38;5;28;01mimport\u001b[39;00m BaseTool\n\u001b[32m      4\u001b[39m \u001b[38;5;66;03m# --- Herramienta de Consulta (DuckDuckGo) ---\u001b[39;00m\n\u001b[32m      5\u001b[39m \u001b[38;5;66;03m# Importamos la herramienta oficial de LangChain que CrewAI puede usar\u001b[39;00m\n\u001b[32m----> \u001b[39m\u001b[32m6\u001b[39m \u001b[38;5;28;01mfrom\u001b[39;00m\u001b[38;5;250m \u001b[39m\u001b[34;01mlangchain_community\u001b[39;00m\u001b[34;01m.\u001b[39;00m\u001b[34;01mtools\u001b[39;00m\u001b[38;5;250m \u001b[39m\u001b[38;5;28;01mimport\u001b[39;00m DuckDuckGoSearchRun\n\u001b[32m      7\u001b[39m \u001b[38;5;66;03m# La \"envolvemos\" para que CrewAI la entienda\u001b[39;00m\n\u001b[32m      8\u001b[39m \u001b[38;5;28;01mclass\u001b[39;00m\u001b[38;5;250m \u001b[39m\u001b[34;01mDuckDuckGoTool\u001b[39;00m(BaseTool):\n",
      "\u001b[31mModuleNotFoundError\u001b[39m: No module named 'langchain_community'"
     ]
    }
   ],
   "source": [
    "# Tuvimos que instalar 'wikipedia' y 'duckduckgo-search' por separado\n",
    "from crewai.tools import BaseTool\n",
    "\n",
    "# --- Herramienta de Consulta (DuckDuckGo) ---\n",
    "# Importamos la herramienta oficial de LangChain que CrewAI puede usar\n",
    "from langchain_community.tools import DuckDuckGoSearchRun\n",
    "# La \"envolvemos\" para que CrewAI la entienda\n",
    "class DuckDuckGoTool(BaseTool):\n",
    "    name: str = \"Búsqueda Web (DuckDuckGo)\"\n",
    "    description: str = \"Busca en la web tiendas, recomendaciones o precios. Útil para información dinámica.\"\n",
    "    \n",
    "    def _run(self, query: str) -> str:\n",
    "        searcher = DuckDuckGoSearchRun()\n",
    "        return searcher.run(query)\n",
    "\n",
    "# --- Herramienta de Consulta (Wikipedia) ---\n",
    "from langchain_community.tools import WikipediaQueryRun\n",
    "from langchain_community.utilities import WikipediaAPIWrapper\n",
    "class WikipediaTool(BaseTool):\n",
    "    name: str = \"Búsqueda en Wikipedia\"\n",
    "    description: str = \"Busca en Wikipedia definiciones o hechos históricos. Útil para información fáctica.\"\n",
    "    \n",
    "    def _run(self, query: str) -> str:\n",
    "        api = WikipediaAPIWrapper(lang=\"es\", top_k_results=1, doc_content_chars_max=2000)\n",
    "        searcher = WikipediaQueryRun(api_wrapper=api)\n",
    "        return searcher.run(query)\n",
    "\n",
    "# --- Herramienta de Escritura ---\n",
    "# Esta es una herramienta personalizada simple\n",
    "@BaseTool.tool(\"Escritor de Archivos\")\n",
    "def file_write_tool(filename: str, content: str) -> str:\n",
    "    \"\"\"Escribe el 'content' (contenido) de texto dado en un archivo con el 'filename' (nombre de archivo) especificado.\"\"\"\n",
    "    try:\n",
    "        with open(filename, 'w', encoding='utf-8') as f:\n",
    "            f.write(content)\n",
    "        return f\"Éxito: Contenido guardado en '{filename}'.\"\n",
    "    except Exception as e:\n",
    "        return f\"Error al escribir archivo: {e}\"\n",
    "\n",
    "# Lista de todas las herramientas\n",
    "tools = [DuckDuckGoTool(), WikipediaTool(), file_write_tool]\n",
    "print(\"✅ Herramientas de Consulta (DuckDuckGo, Wiki) y Escritura (Archivos) listas.\")"
   ]
  },
  {
   "cell_type": "code",
   "execution_count": null,
   "id": "c2e80360",
   "metadata": {},
   "outputs": [],
   "source": [
    "from crewai import Agent\n",
    "\n",
    "piercing_expert_agent = Agent(\n",
    "    role='Asistente Experto en Modificación Corporal',\n",
    "    \n",
    "    goal=\"\"\"Tu objetivo es ser un asistente integral sobre piercings. Debes:\n",
    "    1. Conversar amigablemente con el usuario y **recordar el historial (Memoria)**.\n",
    "    2. Usar la 'Búsqueda Web (DuckDuckGo)' para buscar **tiendas, recomendaciones o precios**.\n",
    "    3. Usar 'Búsqueda en Wikipedia' para buscar **definiciones o tipos de piercings**.\n",
    "    4. Usar el 'Escritor de Archivos' para **guardar resúmenes** cuando el usuario lo pida.\n",
    "    5. **Planificar la secuencia** de herramientas a usar si una tarea es compleja (ej. \"busca esto Y guárdalo\").\"\"\",\n",
    "    \n",
    "    backstory=\"Eres un experto de renombre mundial en piercings y tatuajes. Tienes un profundo conocimiento de seguridad, cuidados, y tendencias.\",\n",
    "    tools=tools,\n",
    "    llm=llm,\n",
    "    memory=True, # Habilita la memoria en el agente (IL2.2)\n",
    "    verbose=False,\n",
    "    allow_delegation=False\n",
    ")\n",
    "print(\"✅ Agente 'Experto' creado con Memoria, Planificación y Herramientas.\")"
   ]
  },
  {
   "cell_type": "code",
   "execution_count": null,
   "id": "65858f03",
   "metadata": {},
   "outputs": [],
   "source": [
    "from crewai import Task, Crew\n",
    "\n",
    "expert_task = Task(\n",
    "    description=\"Analiza la solicitud del usuario: '{query}'. \"\n",
    "                \"Usa tu razonamiento para decidir qué herramientas necesitas. \"\n",
    "                \"Si es una charla, usa tu memoria. \"\n",
    "                \"Si es una búsqueda, usa Google (DuckDuckGo) o Wikipedia. \"\n",
    "                \"Si es una orden de escritura, usa la herramienta de archivos.\",\n",
    "    expected_output=\"Una respuesta completa y útil a la solicitud del usuario.\",\n",
    "    agent=piercing_expert_agent\n",
    ")\n",
    "\n",
    "piercing_crew = Crew(\n",
    "    agents=[piercing_expert_agent],\n",
    "    tasks=[expert_task],\n",
    "    memory=True, # Habilita la memoria en el crew (IL2.2)\n",
    "    verbose=False\n",
    ")\n",
    "print(\"✅ Crew listo con Agente Experto y Tarea genérica.\")"
   ]
  },
  {
   "cell_type": "code",
   "execution_count": null,
   "id": "f0efbc97",
   "metadata": {},
   "outputs": [],
   "source": [
    "# --- PRUEBA 1 (DuckDuckGo) ---\n",
    "query_1 = \"Necesito recomendaciones de tiendas de piercing seguras en Santiago de Chile\"\n",
    "response_1 = piercing_crew.kickoff(inputs={'query': query_1})\n",
    "print(f\"--- 💬 CONSULTA 1: {query_1} ---\")\n",
    "print(f\"--- 🤖 RESPUESTA 1: {response_1} ---\")"
   ]
  },
  {
   "cell_type": "code",
   "execution_count": null,
   "id": "9ac7bf96",
   "metadata": {},
   "outputs": [],
   "source": [
    "# --- PRUEBA 2 (Memoria) ---\n",
    "query_2 = \"¿Sobre qué ciudad te acabo de preguntar?\"\n",
    "response_2 = piercing_crew.kickoff(inputs={'query': query_2})\n",
    "print(f\"--- 💬 CONSULTA 2: {query_2} ---\")\n",
    "print(f\"--- 🤖 RESPUESTA 2: {response_2} ---\")"
   ]
  },
  {
   "cell_type": "code",
   "execution_count": null,
   "id": "09a97377",
   "metadata": {},
   "outputs": [],
   "source": [
    "# --- PRUEBA 3 (Wikipedia) ---\n",
    "query_3 = \"¿Qué es un piercing 'helix' según Wikipedia?\"\n",
    "response_3 = piercing_crew.kickoff(inputs={'query': query_3})\n",
    "print(f\"--- 💬 CONSULTA 3: {query_3} ---\")\n",
    "print(f\"--- 🤖 RESPUESTA 3: {response_3} ---\")"
   ]
  },
  {
   "cell_type": "code",
   "execution_count": null,
   "id": "b37da61c",
   "metadata": {},
   "outputs": [],
   "source": [
    "# --- PRUEBA 4 (Planificación: Buscar + Escribir) ---\n",
    "query_4 = \"Busca en Wikipedia los cuidados para un piercing helix y guarda esa información en el archivo 'cuidados.txt'.\"\n",
    "response_4 = piercing_crew.kickoff(inputs={'query': query_4})\n",
    "print(f\"--- 💬 CONSULTA 4: {query_4} ---\")\n",
    "print(f\"--- 🤖 RESPUESTA 4: {response_4} ---\")\n",
    "# (Revisa tu carpeta, debería aparecer 'cuidados.txt')"
   ]
  }
 ],
 "metadata": {
  "kernelspec": {
   "display_name": "venv",
   "language": "python",
   "name": "python3"
  },
  "language_info": {
   "codemirror_mode": {
    "name": "ipython",
    "version": 3
   },
   "file_extension": ".py",
   "mimetype": "text/x-python",
   "name": "python",
   "nbconvert_exporter": "python",
   "pygments_lexer": "ipython3",
   "version": "3.11.9"
  }
 },
 "nbformat": 4,
 "nbformat_minor": 5
}
